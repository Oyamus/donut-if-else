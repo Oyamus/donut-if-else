{
 "cells": [
  {
   "cell_type": "code",
   "execution_count": null,
   "metadata": {},
   "outputs": [],
   "source": [
    "item = int(input(\"How mony doughnut will you buy? \"))\n",
    "price = float(12.75)\n",
    "count = int(item / 120)\n",
    "discount = float(count * .02)\n",
    "extra = float(price * (item - (count * 120)))\n",
    "total_discount = float((price * (count * 120)) * discount)\n",
    "\n",
    "if item >= 120 and item <= 1199:\n",
    "\tdiscounted_items = float((price * (count * 120)) - total_discount)\n",
    "\ttotal_price = float(discounted_items + extra)\n",
    "\tprint(\"The Total Price is \",total_price)\n",
    "\n",
    "elif item >= 1200:\n",
    "\tdiscount = float(.20)\n",
    "\ttotal_discount = float((price * (count * 120)) * discount)\n",
    "\tdiscounted_items = float((price * (count * 120)) - total_discount)\n",
    "\ttotal_price = float(discounted_items + extra)\n",
    "\tprint(\"The Total Price is \",total_price)\n",
    "\t\t\n",
    "else:\n",
    "\tprint(\"The Total Price is \",item * price)\t"
   ]
  }
 ],
 "metadata": {
  "kernelspec": {
   "display_name": "Python 3",
   "language": "python",
   "name": "python3"
  },
  "language_info": {
   "codemirror_mode": {
    "name": "ipython",
    "version": 3
   },
   "file_extension": ".py",
   "mimetype": "text/x-python",
   "name": "python",
   "nbconvert_exporter": "python",
   "pygments_lexer": "ipython3",
   "version": "3.7.3"
  }
 },
 "nbformat": 4,
 "nbformat_minor": 2
}
