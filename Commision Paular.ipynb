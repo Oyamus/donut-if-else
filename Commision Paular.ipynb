{
 "cells": [
  {
   "cell_type": "code",
   "execution_count": 1,
   "metadata": {},
   "outputs": [
    {
     "name": "stdout",
     "output_type": "stream",
     "text": [
      "Enter Sales: 143\n",
      "Your commision is ₱ 8 and ¢ 0.58\n"
     ]
    }
   ],
   "source": [
    "sales = int(input(\"Enter Sales: \"))\n",
    "\n",
    "if sales <= 1000:\n",
    "\tcommision = float(sales * .06)\n",
    "\n",
    "elif sales > 1000 & sales <= 5000:\n",
    "\tcommision = float(((sales-1000) * .10) + 60)\n",
    "\n",
    "else:\n",
    "\tcommision = float(((sales - 5000)*.15) + 460)\n",
    "\n",
    "peso = int(commision)\n",
    "cents = round(commision % 1,2)\n",
    "\n",
    "\n",
    "print(\"Your commision is ₱\", peso , \"and ¢\" , cents)"
   ]
  },
  {
   "cell_type": "code",
   "execution_count": null,
   "metadata": {},
   "outputs": [],
   "source": []
  }
 ],
 "metadata": {
  "kernelspec": {
   "display_name": "Python 3",
   "language": "python",
   "name": "python3"
  },
  "language_info": {
   "codemirror_mode": {
    "name": "ipython",
    "version": 3
   },
   "file_extension": ".py",
   "mimetype": "text/x-python",
   "name": "python",
   "nbconvert_exporter": "python",
   "pygments_lexer": "ipython3",
   "version": "3.7.3"
  }
 },
 "nbformat": 4,
 "nbformat_minor": 2
}
